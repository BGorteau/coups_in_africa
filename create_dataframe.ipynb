{
 "cells": [
  {
   "cell_type": "markdown",
   "id": "621e1d10",
   "metadata": {},
   "source": [
    "<p style=\"font-size: 30px; font-weight: bold; text-align: center\">Create coup dataframe</p>"
   ]
  },
  {
   "cell_type": "code",
   "execution_count": 2,
   "id": "b2c67428",
   "metadata": {},
   "outputs": [],
   "source": [
    "import sklearn\n",
    "import numpy as np\n",
    "import sksurv\n",
    "import pandas as pd\n",
    "from sksurv.datasets import load_veterans_lung_cancer\n",
    "import matplotlib.pyplot as plt\n",
    "from sksurv.nonparametric import kaplan_meier_estimator\n",
    "import wbgapi as wb"
   ]
  },
  {
   "cell_type": "code",
   "execution_count": 3,
   "id": "4eee9096",
   "metadata": {},
   "outputs": [],
   "source": [
    "data = pd.read_csv(\"data/Coup_data_2.1.2.csv\")"
   ]
  },
  {
   "cell_type": "code",
   "execution_count": 4,
   "id": "e26ce77e",
   "metadata": {},
   "outputs": [],
   "source": [
    "data = data.replace('Democratic Republic of the Congo', 'Congo, Democratic Republic of the')"
   ]
  },
  {
   "cell_type": "code",
   "execution_count": 5,
   "id": "c6f47d08",
   "metadata": {},
   "outputs": [],
   "source": [
    "data = data.replace('Congo', 'Congo, Republic of the')"
   ]
  },
  {
   "cell_type": "code",
   "execution_count": 6,
   "id": "a8056eb0",
   "metadata": {},
   "outputs": [],
   "source": [
    "count = pd.read_csv(\"data/african_countries.csv\", sep=\";\")"
   ]
  },
  {
   "cell_type": "code",
   "execution_count": 7,
   "id": "63bf159f",
   "metadata": {},
   "outputs": [],
   "source": [
    "africa = count.index"
   ]
  },
  {
   "cell_type": "code",
   "execution_count": 8,
   "id": "ab993c4e",
   "metadata": {},
   "outputs": [],
   "source": [
    "dico_dates = {}\n",
    "for i in africa :\n",
    "    dico_dates[i] = []"
   ]
  },
  {
   "cell_type": "code",
   "execution_count": 9,
   "id": "d41930e1",
   "metadata": {},
   "outputs": [],
   "source": [
    "for key, val in dico_dates.items() :\n",
    "    val.append(2022)\n",
    "    data_c = data[data[\"country\"] == key]\n",
    "    for year in data_c[\"year\"] :\n",
    "        val.append(year)\n",
    "    val.append(1950)\n",
    "    val = val.sort()"
   ]
  },
  {
   "cell_type": "code",
   "execution_count": 11,
   "id": "df865bb6",
   "metadata": {},
   "outputs": [],
   "source": [
    "countries = []\n",
    "start = []\n",
    "end = []\n",
    "duration = []\n",
    "status = []\n",
    "for key, val in dico_dates.items() :\n",
    "    for i in range(len(val)-1) :\n",
    "        countries.append(key)\n",
    "        start.append(val[i])\n",
    "        end.append(val[i+1])\n",
    "        duration.append((val[i+1])-(val[i]))\n",
    "        if val[i+1] == 2022 :\n",
    "            status.append(False)\n",
    "        else :\n",
    "            status.append(True)"
   ]
  },
  {
   "cell_type": "code",
   "execution_count": 12,
   "id": "b24eab32",
   "metadata": {},
   "outputs": [],
   "source": [
    "data_coups = pd.DataFrame({'Country' : countries, 'Start' : start, 'End' : end, 'Duration' : duration, 'Status' : status})"
   ]
  },
  {
   "cell_type": "code",
   "execution_count": 16,
   "id": "e4575cb2",
   "metadata": {},
   "outputs": [],
   "source": [
    "id_to_keep = [2]"
   ]
  },
  {
   "cell_type": "code",
   "execution_count": 17,
   "id": "8d488649",
   "metadata": {},
   "outputs": [],
   "source": [
    "list_variables = []\n",
    "for i in id_to_keep :\n",
    "    for j in wb.series.Series(db=i).keys() :\n",
    "        list_variables.append(j)"
   ]
  },
  {
   "cell_type": "code",
   "execution_count": 21,
   "id": "811503dc",
   "metadata": {},
   "outputs": [],
   "source": [
    "dico_corr_var = {}\n",
    "for i in wb.series.info(db=2).items :\n",
    "    dico_corr_var[i[\"id\"]] = i[\"value\"]"
   ]
  },
  {
   "cell_type": "code",
   "execution_count": 1,
   "id": "1ba2055b",
   "metadata": {},
   "outputs": [],
   "source": [
    "new_liste_var = []\n",
    "for var in list_variables :\n",
    "    liste_test = []\n",
    "    for i in wb.data.fetch(var, 'ZMB') :\n",
    "        liste_test.append(i['value'])\n",
    "    if len([j for j in liste_test if j == None]) < 10 :\n",
    "        new_liste_var.append((var, dico_corr_var[var], len([j for j in liste_test if j == None])))"
   ]
  },
  {
   "cell_type": "code",
   "execution_count": 24,
   "id": "4e399fb0",
   "metadata": {},
   "outputs": [],
   "source": [
    "country_codes = wb.economy.coder(africa)"
   ]
  },
  {
   "cell_type": "code",
   "execution_count": 26,
   "id": "9eb736d1",
   "metadata": {},
   "outputs": [],
   "source": [
    "new_list_var_bis = [i[0] for i in new_liste_var]"
   ]
  },
  {
   "cell_type": "code",
   "execution_count": 2,
   "id": "9d365ae0",
   "metadata": {
    "scrolled": true
   },
   "outputs": [],
   "source": [
    "dico_data_country = {}\n",
    "for i in country_codes :\n",
    "    dico_data = {}\n",
    "    for val in new_list_var_bis :\n",
    "        dico_data[val] = [j[\"value\"] for j in wb.data.fetch(val, country_codes[i])]\n",
    "    dico_data_country[i] = dico_data"
   ]
  },
  {
   "cell_type": "code",
   "execution_count": 29,
   "id": "c3360a5b",
   "metadata": {},
   "outputs": [],
   "source": [
    "new_dico = {}\n",
    "for key, val in dico_data_country.items() :\n",
    "    df = pd.DataFrame(val)\n",
    "    df.index = reversed(range(1960, 2023))\n",
    "    new_dico[key] = df"
   ]
  },
  {
   "cell_type": "code",
   "execution_count": 37,
   "id": "0776d3a7",
   "metadata": {},
   "outputs": [],
   "source": [
    "dico_means = {}\n",
    "for i in new_list_var_bis :\n",
    "    dico_means[i] = []"
   ]
  },
  {
   "cell_type": "code",
   "execution_count": 38,
   "id": "1cf6e37a",
   "metadata": {},
   "outputs": [],
   "source": [
    "for i in range(len(data_coups)) :\n",
    "    cnt = data_coups.loc[i][\"Country\"]\n",
    "    df = new_dico[cnt].loc[data_coups.loc[i][\"End\"]:data_coups.loc[i][\"Start\"]]\n",
    "    for key in dico_means.keys() :\n",
    "        dico_means[key].append(np.mean(df[key]))"
   ]
  },
  {
   "cell_type": "code",
   "execution_count": 39,
   "id": "f0504f90",
   "metadata": {},
   "outputs": [
    {
     "name": "stderr",
     "output_type": "stream",
     "text": [
      "/var/folders/cj/wcp8pyn12yl3wjnkt7bjxb840000gn/T/ipykernel_7407/2981889211.py:2: PerformanceWarning: DataFrame is highly fragmented.  This is usually the result of calling `frame.insert` many times, which has poor performance.  Consider joining all columns at once using pd.concat(axis=1) instead. To get a de-fragmented frame, use `newframe = frame.copy()`\n",
      "  data_coups[key] = val\n",
      "/var/folders/cj/wcp8pyn12yl3wjnkt7bjxb840000gn/T/ipykernel_7407/2981889211.py:2: PerformanceWarning: DataFrame is highly fragmented.  This is usually the result of calling `frame.insert` many times, which has poor performance.  Consider joining all columns at once using pd.concat(axis=1) instead. To get a de-fragmented frame, use `newframe = frame.copy()`\n",
      "  data_coups[key] = val\n",
      "/var/folders/cj/wcp8pyn12yl3wjnkt7bjxb840000gn/T/ipykernel_7407/2981889211.py:2: PerformanceWarning: DataFrame is highly fragmented.  This is usually the result of calling `frame.insert` many times, which has poor performance.  Consider joining all columns at once using pd.concat(axis=1) instead. To get a de-fragmented frame, use `newframe = frame.copy()`\n",
      "  data_coups[key] = val\n",
      "/var/folders/cj/wcp8pyn12yl3wjnkt7bjxb840000gn/T/ipykernel_7407/2981889211.py:2: PerformanceWarning: DataFrame is highly fragmented.  This is usually the result of calling `frame.insert` many times, which has poor performance.  Consider joining all columns at once using pd.concat(axis=1) instead. To get a de-fragmented frame, use `newframe = frame.copy()`\n",
      "  data_coups[key] = val\n",
      "/var/folders/cj/wcp8pyn12yl3wjnkt7bjxb840000gn/T/ipykernel_7407/2981889211.py:2: PerformanceWarning: DataFrame is highly fragmented.  This is usually the result of calling `frame.insert` many times, which has poor performance.  Consider joining all columns at once using pd.concat(axis=1) instead. To get a de-fragmented frame, use `newframe = frame.copy()`\n",
      "  data_coups[key] = val\n",
      "/var/folders/cj/wcp8pyn12yl3wjnkt7bjxb840000gn/T/ipykernel_7407/2981889211.py:2: PerformanceWarning: DataFrame is highly fragmented.  This is usually the result of calling `frame.insert` many times, which has poor performance.  Consider joining all columns at once using pd.concat(axis=1) instead. To get a de-fragmented frame, use `newframe = frame.copy()`\n",
      "  data_coups[key] = val\n",
      "/var/folders/cj/wcp8pyn12yl3wjnkt7bjxb840000gn/T/ipykernel_7407/2981889211.py:2: PerformanceWarning: DataFrame is highly fragmented.  This is usually the result of calling `frame.insert` many times, which has poor performance.  Consider joining all columns at once using pd.concat(axis=1) instead. To get a de-fragmented frame, use `newframe = frame.copy()`\n",
      "  data_coups[key] = val\n",
      "/var/folders/cj/wcp8pyn12yl3wjnkt7bjxb840000gn/T/ipykernel_7407/2981889211.py:2: PerformanceWarning: DataFrame is highly fragmented.  This is usually the result of calling `frame.insert` many times, which has poor performance.  Consider joining all columns at once using pd.concat(axis=1) instead. To get a de-fragmented frame, use `newframe = frame.copy()`\n",
      "  data_coups[key] = val\n",
      "/var/folders/cj/wcp8pyn12yl3wjnkt7bjxb840000gn/T/ipykernel_7407/2981889211.py:2: PerformanceWarning: DataFrame is highly fragmented.  This is usually the result of calling `frame.insert` many times, which has poor performance.  Consider joining all columns at once using pd.concat(axis=1) instead. To get a de-fragmented frame, use `newframe = frame.copy()`\n",
      "  data_coups[key] = val\n",
      "/var/folders/cj/wcp8pyn12yl3wjnkt7bjxb840000gn/T/ipykernel_7407/2981889211.py:2: PerformanceWarning: DataFrame is highly fragmented.  This is usually the result of calling `frame.insert` many times, which has poor performance.  Consider joining all columns at once using pd.concat(axis=1) instead. To get a de-fragmented frame, use `newframe = frame.copy()`\n",
      "  data_coups[key] = val\n",
      "/var/folders/cj/wcp8pyn12yl3wjnkt7bjxb840000gn/T/ipykernel_7407/2981889211.py:2: PerformanceWarning: DataFrame is highly fragmented.  This is usually the result of calling `frame.insert` many times, which has poor performance.  Consider joining all columns at once using pd.concat(axis=1) instead. To get a de-fragmented frame, use `newframe = frame.copy()`\n",
      "  data_coups[key] = val\n",
      "/var/folders/cj/wcp8pyn12yl3wjnkt7bjxb840000gn/T/ipykernel_7407/2981889211.py:2: PerformanceWarning: DataFrame is highly fragmented.  This is usually the result of calling `frame.insert` many times, which has poor performance.  Consider joining all columns at once using pd.concat(axis=1) instead. To get a de-fragmented frame, use `newframe = frame.copy()`\n",
      "  data_coups[key] = val\n",
      "/var/folders/cj/wcp8pyn12yl3wjnkt7bjxb840000gn/T/ipykernel_7407/2981889211.py:2: PerformanceWarning: DataFrame is highly fragmented.  This is usually the result of calling `frame.insert` many times, which has poor performance.  Consider joining all columns at once using pd.concat(axis=1) instead. To get a de-fragmented frame, use `newframe = frame.copy()`\n",
      "  data_coups[key] = val\n",
      "/var/folders/cj/wcp8pyn12yl3wjnkt7bjxb840000gn/T/ipykernel_7407/2981889211.py:2: PerformanceWarning: DataFrame is highly fragmented.  This is usually the result of calling `frame.insert` many times, which has poor performance.  Consider joining all columns at once using pd.concat(axis=1) instead. To get a de-fragmented frame, use `newframe = frame.copy()`\n",
      "  data_coups[key] = val\n",
      "/var/folders/cj/wcp8pyn12yl3wjnkt7bjxb840000gn/T/ipykernel_7407/2981889211.py:2: PerformanceWarning: DataFrame is highly fragmented.  This is usually the result of calling `frame.insert` many times, which has poor performance.  Consider joining all columns at once using pd.concat(axis=1) instead. To get a de-fragmented frame, use `newframe = frame.copy()`\n",
      "  data_coups[key] = val\n",
      "/var/folders/cj/wcp8pyn12yl3wjnkt7bjxb840000gn/T/ipykernel_7407/2981889211.py:2: PerformanceWarning: DataFrame is highly fragmented.  This is usually the result of calling `frame.insert` many times, which has poor performance.  Consider joining all columns at once using pd.concat(axis=1) instead. To get a de-fragmented frame, use `newframe = frame.copy()`\n",
      "  data_coups[key] = val\n",
      "/var/folders/cj/wcp8pyn12yl3wjnkt7bjxb840000gn/T/ipykernel_7407/2981889211.py:2: PerformanceWarning: DataFrame is highly fragmented.  This is usually the result of calling `frame.insert` many times, which has poor performance.  Consider joining all columns at once using pd.concat(axis=1) instead. To get a de-fragmented frame, use `newframe = frame.copy()`\n",
      "  data_coups[key] = val\n",
      "/var/folders/cj/wcp8pyn12yl3wjnkt7bjxb840000gn/T/ipykernel_7407/2981889211.py:2: PerformanceWarning: DataFrame is highly fragmented.  This is usually the result of calling `frame.insert` many times, which has poor performance.  Consider joining all columns at once using pd.concat(axis=1) instead. To get a de-fragmented frame, use `newframe = frame.copy()`\n",
      "  data_coups[key] = val\n",
      "/var/folders/cj/wcp8pyn12yl3wjnkt7bjxb840000gn/T/ipykernel_7407/2981889211.py:2: PerformanceWarning: DataFrame is highly fragmented.  This is usually the result of calling `frame.insert` many times, which has poor performance.  Consider joining all columns at once using pd.concat(axis=1) instead. To get a de-fragmented frame, use `newframe = frame.copy()`\n",
      "  data_coups[key] = val\n",
      "/var/folders/cj/wcp8pyn12yl3wjnkt7bjxb840000gn/T/ipykernel_7407/2981889211.py:2: PerformanceWarning: DataFrame is highly fragmented.  This is usually the result of calling `frame.insert` many times, which has poor performance.  Consider joining all columns at once using pd.concat(axis=1) instead. To get a de-fragmented frame, use `newframe = frame.copy()`\n",
      "  data_coups[key] = val\n",
      "/var/folders/cj/wcp8pyn12yl3wjnkt7bjxb840000gn/T/ipykernel_7407/2981889211.py:2: PerformanceWarning: DataFrame is highly fragmented.  This is usually the result of calling `frame.insert` many times, which has poor performance.  Consider joining all columns at once using pd.concat(axis=1) instead. To get a de-fragmented frame, use `newframe = frame.copy()`\n",
      "  data_coups[key] = val\n",
      "/var/folders/cj/wcp8pyn12yl3wjnkt7bjxb840000gn/T/ipykernel_7407/2981889211.py:2: PerformanceWarning: DataFrame is highly fragmented.  This is usually the result of calling `frame.insert` many times, which has poor performance.  Consider joining all columns at once using pd.concat(axis=1) instead. To get a de-fragmented frame, use `newframe = frame.copy()`\n",
      "  data_coups[key] = val\n",
      "/var/folders/cj/wcp8pyn12yl3wjnkt7bjxb840000gn/T/ipykernel_7407/2981889211.py:2: PerformanceWarning: DataFrame is highly fragmented.  This is usually the result of calling `frame.insert` many times, which has poor performance.  Consider joining all columns at once using pd.concat(axis=1) instead. To get a de-fragmented frame, use `newframe = frame.copy()`\n",
      "  data_coups[key] = val\n",
      "/var/folders/cj/wcp8pyn12yl3wjnkt7bjxb840000gn/T/ipykernel_7407/2981889211.py:2: PerformanceWarning: DataFrame is highly fragmented.  This is usually the result of calling `frame.insert` many times, which has poor performance.  Consider joining all columns at once using pd.concat(axis=1) instead. To get a de-fragmented frame, use `newframe = frame.copy()`\n",
      "  data_coups[key] = val\n",
      "/var/folders/cj/wcp8pyn12yl3wjnkt7bjxb840000gn/T/ipykernel_7407/2981889211.py:2: PerformanceWarning: DataFrame is highly fragmented.  This is usually the result of calling `frame.insert` many times, which has poor performance.  Consider joining all columns at once using pd.concat(axis=1) instead. To get a de-fragmented frame, use `newframe = frame.copy()`\n",
      "  data_coups[key] = val\n",
      "/var/folders/cj/wcp8pyn12yl3wjnkt7bjxb840000gn/T/ipykernel_7407/2981889211.py:2: PerformanceWarning: DataFrame is highly fragmented.  This is usually the result of calling `frame.insert` many times, which has poor performance.  Consider joining all columns at once using pd.concat(axis=1) instead. To get a de-fragmented frame, use `newframe = frame.copy()`\n",
      "  data_coups[key] = val\n",
      "/var/folders/cj/wcp8pyn12yl3wjnkt7bjxb840000gn/T/ipykernel_7407/2981889211.py:2: PerformanceWarning: DataFrame is highly fragmented.  This is usually the result of calling `frame.insert` many times, which has poor performance.  Consider joining all columns at once using pd.concat(axis=1) instead. To get a de-fragmented frame, use `newframe = frame.copy()`\n",
      "  data_coups[key] = val\n",
      "/var/folders/cj/wcp8pyn12yl3wjnkt7bjxb840000gn/T/ipykernel_7407/2981889211.py:2: PerformanceWarning: DataFrame is highly fragmented.  This is usually the result of calling `frame.insert` many times, which has poor performance.  Consider joining all columns at once using pd.concat(axis=1) instead. To get a de-fragmented frame, use `newframe = frame.copy()`\n",
      "  data_coups[key] = val\n",
      "/var/folders/cj/wcp8pyn12yl3wjnkt7bjxb840000gn/T/ipykernel_7407/2981889211.py:2: PerformanceWarning: DataFrame is highly fragmented.  This is usually the result of calling `frame.insert` many times, which has poor performance.  Consider joining all columns at once using pd.concat(axis=1) instead. To get a de-fragmented frame, use `newframe = frame.copy()`\n",
      "  data_coups[key] = val\n"
     ]
    },
    {
     "name": "stderr",
     "output_type": "stream",
     "text": [
      "/var/folders/cj/wcp8pyn12yl3wjnkt7bjxb840000gn/T/ipykernel_7407/2981889211.py:2: PerformanceWarning: DataFrame is highly fragmented.  This is usually the result of calling `frame.insert` many times, which has poor performance.  Consider joining all columns at once using pd.concat(axis=1) instead. To get a de-fragmented frame, use `newframe = frame.copy()`\n",
      "  data_coups[key] = val\n",
      "/var/folders/cj/wcp8pyn12yl3wjnkt7bjxb840000gn/T/ipykernel_7407/2981889211.py:2: PerformanceWarning: DataFrame is highly fragmented.  This is usually the result of calling `frame.insert` many times, which has poor performance.  Consider joining all columns at once using pd.concat(axis=1) instead. To get a de-fragmented frame, use `newframe = frame.copy()`\n",
      "  data_coups[key] = val\n",
      "/var/folders/cj/wcp8pyn12yl3wjnkt7bjxb840000gn/T/ipykernel_7407/2981889211.py:2: PerformanceWarning: DataFrame is highly fragmented.  This is usually the result of calling `frame.insert` many times, which has poor performance.  Consider joining all columns at once using pd.concat(axis=1) instead. To get a de-fragmented frame, use `newframe = frame.copy()`\n",
      "  data_coups[key] = val\n",
      "/var/folders/cj/wcp8pyn12yl3wjnkt7bjxb840000gn/T/ipykernel_7407/2981889211.py:2: PerformanceWarning: DataFrame is highly fragmented.  This is usually the result of calling `frame.insert` many times, which has poor performance.  Consider joining all columns at once using pd.concat(axis=1) instead. To get a de-fragmented frame, use `newframe = frame.copy()`\n",
      "  data_coups[key] = val\n",
      "/var/folders/cj/wcp8pyn12yl3wjnkt7bjxb840000gn/T/ipykernel_7407/2981889211.py:2: PerformanceWarning: DataFrame is highly fragmented.  This is usually the result of calling `frame.insert` many times, which has poor performance.  Consider joining all columns at once using pd.concat(axis=1) instead. To get a de-fragmented frame, use `newframe = frame.copy()`\n",
      "  data_coups[key] = val\n",
      "/var/folders/cj/wcp8pyn12yl3wjnkt7bjxb840000gn/T/ipykernel_7407/2981889211.py:2: PerformanceWarning: DataFrame is highly fragmented.  This is usually the result of calling `frame.insert` many times, which has poor performance.  Consider joining all columns at once using pd.concat(axis=1) instead. To get a de-fragmented frame, use `newframe = frame.copy()`\n",
      "  data_coups[key] = val\n",
      "/var/folders/cj/wcp8pyn12yl3wjnkt7bjxb840000gn/T/ipykernel_7407/2981889211.py:2: PerformanceWarning: DataFrame is highly fragmented.  This is usually the result of calling `frame.insert` many times, which has poor performance.  Consider joining all columns at once using pd.concat(axis=1) instead. To get a de-fragmented frame, use `newframe = frame.copy()`\n",
      "  data_coups[key] = val\n",
      "/var/folders/cj/wcp8pyn12yl3wjnkt7bjxb840000gn/T/ipykernel_7407/2981889211.py:2: PerformanceWarning: DataFrame is highly fragmented.  This is usually the result of calling `frame.insert` many times, which has poor performance.  Consider joining all columns at once using pd.concat(axis=1) instead. To get a de-fragmented frame, use `newframe = frame.copy()`\n",
      "  data_coups[key] = val\n",
      "/var/folders/cj/wcp8pyn12yl3wjnkt7bjxb840000gn/T/ipykernel_7407/2981889211.py:2: PerformanceWarning: DataFrame is highly fragmented.  This is usually the result of calling `frame.insert` many times, which has poor performance.  Consider joining all columns at once using pd.concat(axis=1) instead. To get a de-fragmented frame, use `newframe = frame.copy()`\n",
      "  data_coups[key] = val\n",
      "/var/folders/cj/wcp8pyn12yl3wjnkt7bjxb840000gn/T/ipykernel_7407/2981889211.py:2: PerformanceWarning: DataFrame is highly fragmented.  This is usually the result of calling `frame.insert` many times, which has poor performance.  Consider joining all columns at once using pd.concat(axis=1) instead. To get a de-fragmented frame, use `newframe = frame.copy()`\n",
      "  data_coups[key] = val\n",
      "/var/folders/cj/wcp8pyn12yl3wjnkt7bjxb840000gn/T/ipykernel_7407/2981889211.py:2: PerformanceWarning: DataFrame is highly fragmented.  This is usually the result of calling `frame.insert` many times, which has poor performance.  Consider joining all columns at once using pd.concat(axis=1) instead. To get a de-fragmented frame, use `newframe = frame.copy()`\n",
      "  data_coups[key] = val\n",
      "/var/folders/cj/wcp8pyn12yl3wjnkt7bjxb840000gn/T/ipykernel_7407/2981889211.py:2: PerformanceWarning: DataFrame is highly fragmented.  This is usually the result of calling `frame.insert` many times, which has poor performance.  Consider joining all columns at once using pd.concat(axis=1) instead. To get a de-fragmented frame, use `newframe = frame.copy()`\n",
      "  data_coups[key] = val\n",
      "/var/folders/cj/wcp8pyn12yl3wjnkt7bjxb840000gn/T/ipykernel_7407/2981889211.py:2: PerformanceWarning: DataFrame is highly fragmented.  This is usually the result of calling `frame.insert` many times, which has poor performance.  Consider joining all columns at once using pd.concat(axis=1) instead. To get a de-fragmented frame, use `newframe = frame.copy()`\n",
      "  data_coups[key] = val\n",
      "/var/folders/cj/wcp8pyn12yl3wjnkt7bjxb840000gn/T/ipykernel_7407/2981889211.py:2: PerformanceWarning: DataFrame is highly fragmented.  This is usually the result of calling `frame.insert` many times, which has poor performance.  Consider joining all columns at once using pd.concat(axis=1) instead. To get a de-fragmented frame, use `newframe = frame.copy()`\n",
      "  data_coups[key] = val\n",
      "/var/folders/cj/wcp8pyn12yl3wjnkt7bjxb840000gn/T/ipykernel_7407/2981889211.py:2: PerformanceWarning: DataFrame is highly fragmented.  This is usually the result of calling `frame.insert` many times, which has poor performance.  Consider joining all columns at once using pd.concat(axis=1) instead. To get a de-fragmented frame, use `newframe = frame.copy()`\n",
      "  data_coups[key] = val\n",
      "/var/folders/cj/wcp8pyn12yl3wjnkt7bjxb840000gn/T/ipykernel_7407/2981889211.py:2: PerformanceWarning: DataFrame is highly fragmented.  This is usually the result of calling `frame.insert` many times, which has poor performance.  Consider joining all columns at once using pd.concat(axis=1) instead. To get a de-fragmented frame, use `newframe = frame.copy()`\n",
      "  data_coups[key] = val\n",
      "/var/folders/cj/wcp8pyn12yl3wjnkt7bjxb840000gn/T/ipykernel_7407/2981889211.py:2: PerformanceWarning: DataFrame is highly fragmented.  This is usually the result of calling `frame.insert` many times, which has poor performance.  Consider joining all columns at once using pd.concat(axis=1) instead. To get a de-fragmented frame, use `newframe = frame.copy()`\n",
      "  data_coups[key] = val\n",
      "/var/folders/cj/wcp8pyn12yl3wjnkt7bjxb840000gn/T/ipykernel_7407/2981889211.py:2: PerformanceWarning: DataFrame is highly fragmented.  This is usually the result of calling `frame.insert` many times, which has poor performance.  Consider joining all columns at once using pd.concat(axis=1) instead. To get a de-fragmented frame, use `newframe = frame.copy()`\n",
      "  data_coups[key] = val\n",
      "/var/folders/cj/wcp8pyn12yl3wjnkt7bjxb840000gn/T/ipykernel_7407/2981889211.py:2: PerformanceWarning: DataFrame is highly fragmented.  This is usually the result of calling `frame.insert` many times, which has poor performance.  Consider joining all columns at once using pd.concat(axis=1) instead. To get a de-fragmented frame, use `newframe = frame.copy()`\n",
      "  data_coups[key] = val\n",
      "/var/folders/cj/wcp8pyn12yl3wjnkt7bjxb840000gn/T/ipykernel_7407/2981889211.py:2: PerformanceWarning: DataFrame is highly fragmented.  This is usually the result of calling `frame.insert` many times, which has poor performance.  Consider joining all columns at once using pd.concat(axis=1) instead. To get a de-fragmented frame, use `newframe = frame.copy()`\n",
      "  data_coups[key] = val\n",
      "/var/folders/cj/wcp8pyn12yl3wjnkt7bjxb840000gn/T/ipykernel_7407/2981889211.py:2: PerformanceWarning: DataFrame is highly fragmented.  This is usually the result of calling `frame.insert` many times, which has poor performance.  Consider joining all columns at once using pd.concat(axis=1) instead. To get a de-fragmented frame, use `newframe = frame.copy()`\n",
      "  data_coups[key] = val\n",
      "/var/folders/cj/wcp8pyn12yl3wjnkt7bjxb840000gn/T/ipykernel_7407/2981889211.py:2: PerformanceWarning: DataFrame is highly fragmented.  This is usually the result of calling `frame.insert` many times, which has poor performance.  Consider joining all columns at once using pd.concat(axis=1) instead. To get a de-fragmented frame, use `newframe = frame.copy()`\n",
      "  data_coups[key] = val\n",
      "/var/folders/cj/wcp8pyn12yl3wjnkt7bjxb840000gn/T/ipykernel_7407/2981889211.py:2: PerformanceWarning: DataFrame is highly fragmented.  This is usually the result of calling `frame.insert` many times, which has poor performance.  Consider joining all columns at once using pd.concat(axis=1) instead. To get a de-fragmented frame, use `newframe = frame.copy()`\n",
      "  data_coups[key] = val\n",
      "/var/folders/cj/wcp8pyn12yl3wjnkt7bjxb840000gn/T/ipykernel_7407/2981889211.py:2: PerformanceWarning: DataFrame is highly fragmented.  This is usually the result of calling `frame.insert` many times, which has poor performance.  Consider joining all columns at once using pd.concat(axis=1) instead. To get a de-fragmented frame, use `newframe = frame.copy()`\n",
      "  data_coups[key] = val\n",
      "/var/folders/cj/wcp8pyn12yl3wjnkt7bjxb840000gn/T/ipykernel_7407/2981889211.py:2: PerformanceWarning: DataFrame is highly fragmented.  This is usually the result of calling `frame.insert` many times, which has poor performance.  Consider joining all columns at once using pd.concat(axis=1) instead. To get a de-fragmented frame, use `newframe = frame.copy()`\n",
      "  data_coups[key] = val\n",
      "/var/folders/cj/wcp8pyn12yl3wjnkt7bjxb840000gn/T/ipykernel_7407/2981889211.py:2: PerformanceWarning: DataFrame is highly fragmented.  This is usually the result of calling `frame.insert` many times, which has poor performance.  Consider joining all columns at once using pd.concat(axis=1) instead. To get a de-fragmented frame, use `newframe = frame.copy()`\n",
      "  data_coups[key] = val\n",
      "/var/folders/cj/wcp8pyn12yl3wjnkt7bjxb840000gn/T/ipykernel_7407/2981889211.py:2: PerformanceWarning: DataFrame is highly fragmented.  This is usually the result of calling `frame.insert` many times, which has poor performance.  Consider joining all columns at once using pd.concat(axis=1) instead. To get a de-fragmented frame, use `newframe = frame.copy()`\n",
      "  data_coups[key] = val\n"
     ]
    },
    {
     "name": "stderr",
     "output_type": "stream",
     "text": [
      "/var/folders/cj/wcp8pyn12yl3wjnkt7bjxb840000gn/T/ipykernel_7407/2981889211.py:2: PerformanceWarning: DataFrame is highly fragmented.  This is usually the result of calling `frame.insert` many times, which has poor performance.  Consider joining all columns at once using pd.concat(axis=1) instead. To get a de-fragmented frame, use `newframe = frame.copy()`\n",
      "  data_coups[key] = val\n",
      "/var/folders/cj/wcp8pyn12yl3wjnkt7bjxb840000gn/T/ipykernel_7407/2981889211.py:2: PerformanceWarning: DataFrame is highly fragmented.  This is usually the result of calling `frame.insert` many times, which has poor performance.  Consider joining all columns at once using pd.concat(axis=1) instead. To get a de-fragmented frame, use `newframe = frame.copy()`\n",
      "  data_coups[key] = val\n",
      "/var/folders/cj/wcp8pyn12yl3wjnkt7bjxb840000gn/T/ipykernel_7407/2981889211.py:2: PerformanceWarning: DataFrame is highly fragmented.  This is usually the result of calling `frame.insert` many times, which has poor performance.  Consider joining all columns at once using pd.concat(axis=1) instead. To get a de-fragmented frame, use `newframe = frame.copy()`\n",
      "  data_coups[key] = val\n",
      "/var/folders/cj/wcp8pyn12yl3wjnkt7bjxb840000gn/T/ipykernel_7407/2981889211.py:2: PerformanceWarning: DataFrame is highly fragmented.  This is usually the result of calling `frame.insert` many times, which has poor performance.  Consider joining all columns at once using pd.concat(axis=1) instead. To get a de-fragmented frame, use `newframe = frame.copy()`\n",
      "  data_coups[key] = val\n",
      "/var/folders/cj/wcp8pyn12yl3wjnkt7bjxb840000gn/T/ipykernel_7407/2981889211.py:2: PerformanceWarning: DataFrame is highly fragmented.  This is usually the result of calling `frame.insert` many times, which has poor performance.  Consider joining all columns at once using pd.concat(axis=1) instead. To get a de-fragmented frame, use `newframe = frame.copy()`\n",
      "  data_coups[key] = val\n",
      "/var/folders/cj/wcp8pyn12yl3wjnkt7bjxb840000gn/T/ipykernel_7407/2981889211.py:2: PerformanceWarning: DataFrame is highly fragmented.  This is usually the result of calling `frame.insert` many times, which has poor performance.  Consider joining all columns at once using pd.concat(axis=1) instead. To get a de-fragmented frame, use `newframe = frame.copy()`\n",
      "  data_coups[key] = val\n",
      "/var/folders/cj/wcp8pyn12yl3wjnkt7bjxb840000gn/T/ipykernel_7407/2981889211.py:2: PerformanceWarning: DataFrame is highly fragmented.  This is usually the result of calling `frame.insert` many times, which has poor performance.  Consider joining all columns at once using pd.concat(axis=1) instead. To get a de-fragmented frame, use `newframe = frame.copy()`\n",
      "  data_coups[key] = val\n",
      "/var/folders/cj/wcp8pyn12yl3wjnkt7bjxb840000gn/T/ipykernel_7407/2981889211.py:2: PerformanceWarning: DataFrame is highly fragmented.  This is usually the result of calling `frame.insert` many times, which has poor performance.  Consider joining all columns at once using pd.concat(axis=1) instead. To get a de-fragmented frame, use `newframe = frame.copy()`\n",
      "  data_coups[key] = val\n",
      "/var/folders/cj/wcp8pyn12yl3wjnkt7bjxb840000gn/T/ipykernel_7407/2981889211.py:2: PerformanceWarning: DataFrame is highly fragmented.  This is usually the result of calling `frame.insert` many times, which has poor performance.  Consider joining all columns at once using pd.concat(axis=1) instead. To get a de-fragmented frame, use `newframe = frame.copy()`\n",
      "  data_coups[key] = val\n",
      "/var/folders/cj/wcp8pyn12yl3wjnkt7bjxb840000gn/T/ipykernel_7407/2981889211.py:2: PerformanceWarning: DataFrame is highly fragmented.  This is usually the result of calling `frame.insert` many times, which has poor performance.  Consider joining all columns at once using pd.concat(axis=1) instead. To get a de-fragmented frame, use `newframe = frame.copy()`\n",
      "  data_coups[key] = val\n",
      "/var/folders/cj/wcp8pyn12yl3wjnkt7bjxb840000gn/T/ipykernel_7407/2981889211.py:2: PerformanceWarning: DataFrame is highly fragmented.  This is usually the result of calling `frame.insert` many times, which has poor performance.  Consider joining all columns at once using pd.concat(axis=1) instead. To get a de-fragmented frame, use `newframe = frame.copy()`\n",
      "  data_coups[key] = val\n",
      "/var/folders/cj/wcp8pyn12yl3wjnkt7bjxb840000gn/T/ipykernel_7407/2981889211.py:2: PerformanceWarning: DataFrame is highly fragmented.  This is usually the result of calling `frame.insert` many times, which has poor performance.  Consider joining all columns at once using pd.concat(axis=1) instead. To get a de-fragmented frame, use `newframe = frame.copy()`\n",
      "  data_coups[key] = val\n",
      "/var/folders/cj/wcp8pyn12yl3wjnkt7bjxb840000gn/T/ipykernel_7407/2981889211.py:2: PerformanceWarning: DataFrame is highly fragmented.  This is usually the result of calling `frame.insert` many times, which has poor performance.  Consider joining all columns at once using pd.concat(axis=1) instead. To get a de-fragmented frame, use `newframe = frame.copy()`\n",
      "  data_coups[key] = val\n",
      "/var/folders/cj/wcp8pyn12yl3wjnkt7bjxb840000gn/T/ipykernel_7407/2981889211.py:2: PerformanceWarning: DataFrame is highly fragmented.  This is usually the result of calling `frame.insert` many times, which has poor performance.  Consider joining all columns at once using pd.concat(axis=1) instead. To get a de-fragmented frame, use `newframe = frame.copy()`\n",
      "  data_coups[key] = val\n",
      "/var/folders/cj/wcp8pyn12yl3wjnkt7bjxb840000gn/T/ipykernel_7407/2981889211.py:2: PerformanceWarning: DataFrame is highly fragmented.  This is usually the result of calling `frame.insert` many times, which has poor performance.  Consider joining all columns at once using pd.concat(axis=1) instead. To get a de-fragmented frame, use `newframe = frame.copy()`\n",
      "  data_coups[key] = val\n",
      "/var/folders/cj/wcp8pyn12yl3wjnkt7bjxb840000gn/T/ipykernel_7407/2981889211.py:2: PerformanceWarning: DataFrame is highly fragmented.  This is usually the result of calling `frame.insert` many times, which has poor performance.  Consider joining all columns at once using pd.concat(axis=1) instead. To get a de-fragmented frame, use `newframe = frame.copy()`\n",
      "  data_coups[key] = val\n",
      "/var/folders/cj/wcp8pyn12yl3wjnkt7bjxb840000gn/T/ipykernel_7407/2981889211.py:2: PerformanceWarning: DataFrame is highly fragmented.  This is usually the result of calling `frame.insert` many times, which has poor performance.  Consider joining all columns at once using pd.concat(axis=1) instead. To get a de-fragmented frame, use `newframe = frame.copy()`\n",
      "  data_coups[key] = val\n",
      "/var/folders/cj/wcp8pyn12yl3wjnkt7bjxb840000gn/T/ipykernel_7407/2981889211.py:2: PerformanceWarning: DataFrame is highly fragmented.  This is usually the result of calling `frame.insert` many times, which has poor performance.  Consider joining all columns at once using pd.concat(axis=1) instead. To get a de-fragmented frame, use `newframe = frame.copy()`\n",
      "  data_coups[key] = val\n",
      "/var/folders/cj/wcp8pyn12yl3wjnkt7bjxb840000gn/T/ipykernel_7407/2981889211.py:2: PerformanceWarning: DataFrame is highly fragmented.  This is usually the result of calling `frame.insert` many times, which has poor performance.  Consider joining all columns at once using pd.concat(axis=1) instead. To get a de-fragmented frame, use `newframe = frame.copy()`\n",
      "  data_coups[key] = val\n",
      "/var/folders/cj/wcp8pyn12yl3wjnkt7bjxb840000gn/T/ipykernel_7407/2981889211.py:2: PerformanceWarning: DataFrame is highly fragmented.  This is usually the result of calling `frame.insert` many times, which has poor performance.  Consider joining all columns at once using pd.concat(axis=1) instead. To get a de-fragmented frame, use `newframe = frame.copy()`\n",
      "  data_coups[key] = val\n",
      "/var/folders/cj/wcp8pyn12yl3wjnkt7bjxb840000gn/T/ipykernel_7407/2981889211.py:2: PerformanceWarning: DataFrame is highly fragmented.  This is usually the result of calling `frame.insert` many times, which has poor performance.  Consider joining all columns at once using pd.concat(axis=1) instead. To get a de-fragmented frame, use `newframe = frame.copy()`\n",
      "  data_coups[key] = val\n",
      "/var/folders/cj/wcp8pyn12yl3wjnkt7bjxb840000gn/T/ipykernel_7407/2981889211.py:2: PerformanceWarning: DataFrame is highly fragmented.  This is usually the result of calling `frame.insert` many times, which has poor performance.  Consider joining all columns at once using pd.concat(axis=1) instead. To get a de-fragmented frame, use `newframe = frame.copy()`\n",
      "  data_coups[key] = val\n",
      "/var/folders/cj/wcp8pyn12yl3wjnkt7bjxb840000gn/T/ipykernel_7407/2981889211.py:2: PerformanceWarning: DataFrame is highly fragmented.  This is usually the result of calling `frame.insert` many times, which has poor performance.  Consider joining all columns at once using pd.concat(axis=1) instead. To get a de-fragmented frame, use `newframe = frame.copy()`\n",
      "  data_coups[key] = val\n",
      "/var/folders/cj/wcp8pyn12yl3wjnkt7bjxb840000gn/T/ipykernel_7407/2981889211.py:2: PerformanceWarning: DataFrame is highly fragmented.  This is usually the result of calling `frame.insert` many times, which has poor performance.  Consider joining all columns at once using pd.concat(axis=1) instead. To get a de-fragmented frame, use `newframe = frame.copy()`\n",
      "  data_coups[key] = val\n",
      "/var/folders/cj/wcp8pyn12yl3wjnkt7bjxb840000gn/T/ipykernel_7407/2981889211.py:2: PerformanceWarning: DataFrame is highly fragmented.  This is usually the result of calling `frame.insert` many times, which has poor performance.  Consider joining all columns at once using pd.concat(axis=1) instead. To get a de-fragmented frame, use `newframe = frame.copy()`\n",
      "  data_coups[key] = val\n",
      "/var/folders/cj/wcp8pyn12yl3wjnkt7bjxb840000gn/T/ipykernel_7407/2981889211.py:2: PerformanceWarning: DataFrame is highly fragmented.  This is usually the result of calling `frame.insert` many times, which has poor performance.  Consider joining all columns at once using pd.concat(axis=1) instead. To get a de-fragmented frame, use `newframe = frame.copy()`\n",
      "  data_coups[key] = val\n",
      "/var/folders/cj/wcp8pyn12yl3wjnkt7bjxb840000gn/T/ipykernel_7407/2981889211.py:2: PerformanceWarning: DataFrame is highly fragmented.  This is usually the result of calling `frame.insert` many times, which has poor performance.  Consider joining all columns at once using pd.concat(axis=1) instead. To get a de-fragmented frame, use `newframe = frame.copy()`\n",
      "  data_coups[key] = val\n",
      "/var/folders/cj/wcp8pyn12yl3wjnkt7bjxb840000gn/T/ipykernel_7407/2981889211.py:2: PerformanceWarning: DataFrame is highly fragmented.  This is usually the result of calling `frame.insert` many times, which has poor performance.  Consider joining all columns at once using pd.concat(axis=1) instead. To get a de-fragmented frame, use `newframe = frame.copy()`\n",
      "  data_coups[key] = val\n",
      "/var/folders/cj/wcp8pyn12yl3wjnkt7bjxb840000gn/T/ipykernel_7407/2981889211.py:2: PerformanceWarning: DataFrame is highly fragmented.  This is usually the result of calling `frame.insert` many times, which has poor performance.  Consider joining all columns at once using pd.concat(axis=1) instead. To get a de-fragmented frame, use `newframe = frame.copy()`\n",
      "  data_coups[key] = val\n",
      "/var/folders/cj/wcp8pyn12yl3wjnkt7bjxb840000gn/T/ipykernel_7407/2981889211.py:2: PerformanceWarning: DataFrame is highly fragmented.  This is usually the result of calling `frame.insert` many times, which has poor performance.  Consider joining all columns at once using pd.concat(axis=1) instead. To get a de-fragmented frame, use `newframe = frame.copy()`\n",
      "  data_coups[key] = val\n",
      "/var/folders/cj/wcp8pyn12yl3wjnkt7bjxb840000gn/T/ipykernel_7407/2981889211.py:2: PerformanceWarning: DataFrame is highly fragmented.  This is usually the result of calling `frame.insert` many times, which has poor performance.  Consider joining all columns at once using pd.concat(axis=1) instead. To get a de-fragmented frame, use `newframe = frame.copy()`\n",
      "  data_coups[key] = val\n",
      "/var/folders/cj/wcp8pyn12yl3wjnkt7bjxb840000gn/T/ipykernel_7407/2981889211.py:2: PerformanceWarning: DataFrame is highly fragmented.  This is usually the result of calling `frame.insert` many times, which has poor performance.  Consider joining all columns at once using pd.concat(axis=1) instead. To get a de-fragmented frame, use `newframe = frame.copy()`\n",
      "  data_coups[key] = val\n",
      "/var/folders/cj/wcp8pyn12yl3wjnkt7bjxb840000gn/T/ipykernel_7407/2981889211.py:2: PerformanceWarning: DataFrame is highly fragmented.  This is usually the result of calling `frame.insert` many times, which has poor performance.  Consider joining all columns at once using pd.concat(axis=1) instead. To get a de-fragmented frame, use `newframe = frame.copy()`\n",
      "  data_coups[key] = val\n",
      "/var/folders/cj/wcp8pyn12yl3wjnkt7bjxb840000gn/T/ipykernel_7407/2981889211.py:2: PerformanceWarning: DataFrame is highly fragmented.  This is usually the result of calling `frame.insert` many times, which has poor performance.  Consider joining all columns at once using pd.concat(axis=1) instead. To get a de-fragmented frame, use `newframe = frame.copy()`\n",
      "  data_coups[key] = val\n",
      "/var/folders/cj/wcp8pyn12yl3wjnkt7bjxb840000gn/T/ipykernel_7407/2981889211.py:2: PerformanceWarning: DataFrame is highly fragmented.  This is usually the result of calling `frame.insert` many times, which has poor performance.  Consider joining all columns at once using pd.concat(axis=1) instead. To get a de-fragmented frame, use `newframe = frame.copy()`\n",
      "  data_coups[key] = val\n"
     ]
    },
    {
     "name": "stderr",
     "output_type": "stream",
     "text": [
      "/var/folders/cj/wcp8pyn12yl3wjnkt7bjxb840000gn/T/ipykernel_7407/2981889211.py:2: PerformanceWarning: DataFrame is highly fragmented.  This is usually the result of calling `frame.insert` many times, which has poor performance.  Consider joining all columns at once using pd.concat(axis=1) instead. To get a de-fragmented frame, use `newframe = frame.copy()`\n",
      "  data_coups[key] = val\n",
      "/var/folders/cj/wcp8pyn12yl3wjnkt7bjxb840000gn/T/ipykernel_7407/2981889211.py:2: PerformanceWarning: DataFrame is highly fragmented.  This is usually the result of calling `frame.insert` many times, which has poor performance.  Consider joining all columns at once using pd.concat(axis=1) instead. To get a de-fragmented frame, use `newframe = frame.copy()`\n",
      "  data_coups[key] = val\n",
      "/var/folders/cj/wcp8pyn12yl3wjnkt7bjxb840000gn/T/ipykernel_7407/2981889211.py:2: PerformanceWarning: DataFrame is highly fragmented.  This is usually the result of calling `frame.insert` many times, which has poor performance.  Consider joining all columns at once using pd.concat(axis=1) instead. To get a de-fragmented frame, use `newframe = frame.copy()`\n",
      "  data_coups[key] = val\n",
      "/var/folders/cj/wcp8pyn12yl3wjnkt7bjxb840000gn/T/ipykernel_7407/2981889211.py:2: PerformanceWarning: DataFrame is highly fragmented.  This is usually the result of calling `frame.insert` many times, which has poor performance.  Consider joining all columns at once using pd.concat(axis=1) instead. To get a de-fragmented frame, use `newframe = frame.copy()`\n",
      "  data_coups[key] = val\n",
      "/var/folders/cj/wcp8pyn12yl3wjnkt7bjxb840000gn/T/ipykernel_7407/2981889211.py:2: PerformanceWarning: DataFrame is highly fragmented.  This is usually the result of calling `frame.insert` many times, which has poor performance.  Consider joining all columns at once using pd.concat(axis=1) instead. To get a de-fragmented frame, use `newframe = frame.copy()`\n",
      "  data_coups[key] = val\n",
      "/var/folders/cj/wcp8pyn12yl3wjnkt7bjxb840000gn/T/ipykernel_7407/2981889211.py:2: PerformanceWarning: DataFrame is highly fragmented.  This is usually the result of calling `frame.insert` many times, which has poor performance.  Consider joining all columns at once using pd.concat(axis=1) instead. To get a de-fragmented frame, use `newframe = frame.copy()`\n",
      "  data_coups[key] = val\n",
      "/var/folders/cj/wcp8pyn12yl3wjnkt7bjxb840000gn/T/ipykernel_7407/2981889211.py:2: PerformanceWarning: DataFrame is highly fragmented.  This is usually the result of calling `frame.insert` many times, which has poor performance.  Consider joining all columns at once using pd.concat(axis=1) instead. To get a de-fragmented frame, use `newframe = frame.copy()`\n",
      "  data_coups[key] = val\n",
      "/var/folders/cj/wcp8pyn12yl3wjnkt7bjxb840000gn/T/ipykernel_7407/2981889211.py:2: PerformanceWarning: DataFrame is highly fragmented.  This is usually the result of calling `frame.insert` many times, which has poor performance.  Consider joining all columns at once using pd.concat(axis=1) instead. To get a de-fragmented frame, use `newframe = frame.copy()`\n",
      "  data_coups[key] = val\n",
      "/var/folders/cj/wcp8pyn12yl3wjnkt7bjxb840000gn/T/ipykernel_7407/2981889211.py:2: PerformanceWarning: DataFrame is highly fragmented.  This is usually the result of calling `frame.insert` many times, which has poor performance.  Consider joining all columns at once using pd.concat(axis=1) instead. To get a de-fragmented frame, use `newframe = frame.copy()`\n",
      "  data_coups[key] = val\n",
      "/var/folders/cj/wcp8pyn12yl3wjnkt7bjxb840000gn/T/ipykernel_7407/2981889211.py:2: PerformanceWarning: DataFrame is highly fragmented.  This is usually the result of calling `frame.insert` many times, which has poor performance.  Consider joining all columns at once using pd.concat(axis=1) instead. To get a de-fragmented frame, use `newframe = frame.copy()`\n",
      "  data_coups[key] = val\n",
      "/var/folders/cj/wcp8pyn12yl3wjnkt7bjxb840000gn/T/ipykernel_7407/2981889211.py:2: PerformanceWarning: DataFrame is highly fragmented.  This is usually the result of calling `frame.insert` many times, which has poor performance.  Consider joining all columns at once using pd.concat(axis=1) instead. To get a de-fragmented frame, use `newframe = frame.copy()`\n",
      "  data_coups[key] = val\n",
      "/var/folders/cj/wcp8pyn12yl3wjnkt7bjxb840000gn/T/ipykernel_7407/2981889211.py:2: PerformanceWarning: DataFrame is highly fragmented.  This is usually the result of calling `frame.insert` many times, which has poor performance.  Consider joining all columns at once using pd.concat(axis=1) instead. To get a de-fragmented frame, use `newframe = frame.copy()`\n",
      "  data_coups[key] = val\n",
      "/var/folders/cj/wcp8pyn12yl3wjnkt7bjxb840000gn/T/ipykernel_7407/2981889211.py:2: PerformanceWarning: DataFrame is highly fragmented.  This is usually the result of calling `frame.insert` many times, which has poor performance.  Consider joining all columns at once using pd.concat(axis=1) instead. To get a de-fragmented frame, use `newframe = frame.copy()`\n",
      "  data_coups[key] = val\n",
      "/var/folders/cj/wcp8pyn12yl3wjnkt7bjxb840000gn/T/ipykernel_7407/2981889211.py:2: PerformanceWarning: DataFrame is highly fragmented.  This is usually the result of calling `frame.insert` many times, which has poor performance.  Consider joining all columns at once using pd.concat(axis=1) instead. To get a de-fragmented frame, use `newframe = frame.copy()`\n",
      "  data_coups[key] = val\n",
      "/var/folders/cj/wcp8pyn12yl3wjnkt7bjxb840000gn/T/ipykernel_7407/2981889211.py:2: PerformanceWarning: DataFrame is highly fragmented.  This is usually the result of calling `frame.insert` many times, which has poor performance.  Consider joining all columns at once using pd.concat(axis=1) instead. To get a de-fragmented frame, use `newframe = frame.copy()`\n",
      "  data_coups[key] = val\n",
      "/var/folders/cj/wcp8pyn12yl3wjnkt7bjxb840000gn/T/ipykernel_7407/2981889211.py:2: PerformanceWarning: DataFrame is highly fragmented.  This is usually the result of calling `frame.insert` many times, which has poor performance.  Consider joining all columns at once using pd.concat(axis=1) instead. To get a de-fragmented frame, use `newframe = frame.copy()`\n",
      "  data_coups[key] = val\n",
      "/var/folders/cj/wcp8pyn12yl3wjnkt7bjxb840000gn/T/ipykernel_7407/2981889211.py:2: PerformanceWarning: DataFrame is highly fragmented.  This is usually the result of calling `frame.insert` many times, which has poor performance.  Consider joining all columns at once using pd.concat(axis=1) instead. To get a de-fragmented frame, use `newframe = frame.copy()`\n",
      "  data_coups[key] = val\n",
      "/var/folders/cj/wcp8pyn12yl3wjnkt7bjxb840000gn/T/ipykernel_7407/2981889211.py:2: PerformanceWarning: DataFrame is highly fragmented.  This is usually the result of calling `frame.insert` many times, which has poor performance.  Consider joining all columns at once using pd.concat(axis=1) instead. To get a de-fragmented frame, use `newframe = frame.copy()`\n",
      "  data_coups[key] = val\n",
      "/var/folders/cj/wcp8pyn12yl3wjnkt7bjxb840000gn/T/ipykernel_7407/2981889211.py:2: PerformanceWarning: DataFrame is highly fragmented.  This is usually the result of calling `frame.insert` many times, which has poor performance.  Consider joining all columns at once using pd.concat(axis=1) instead. To get a de-fragmented frame, use `newframe = frame.copy()`\n",
      "  data_coups[key] = val\n",
      "/var/folders/cj/wcp8pyn12yl3wjnkt7bjxb840000gn/T/ipykernel_7407/2981889211.py:2: PerformanceWarning: DataFrame is highly fragmented.  This is usually the result of calling `frame.insert` many times, which has poor performance.  Consider joining all columns at once using pd.concat(axis=1) instead. To get a de-fragmented frame, use `newframe = frame.copy()`\n",
      "  data_coups[key] = val\n",
      "/var/folders/cj/wcp8pyn12yl3wjnkt7bjxb840000gn/T/ipykernel_7407/2981889211.py:2: PerformanceWarning: DataFrame is highly fragmented.  This is usually the result of calling `frame.insert` many times, which has poor performance.  Consider joining all columns at once using pd.concat(axis=1) instead. To get a de-fragmented frame, use `newframe = frame.copy()`\n",
      "  data_coups[key] = val\n",
      "/var/folders/cj/wcp8pyn12yl3wjnkt7bjxb840000gn/T/ipykernel_7407/2981889211.py:2: PerformanceWarning: DataFrame is highly fragmented.  This is usually the result of calling `frame.insert` many times, which has poor performance.  Consider joining all columns at once using pd.concat(axis=1) instead. To get a de-fragmented frame, use `newframe = frame.copy()`\n",
      "  data_coups[key] = val\n",
      "/var/folders/cj/wcp8pyn12yl3wjnkt7bjxb840000gn/T/ipykernel_7407/2981889211.py:2: PerformanceWarning: DataFrame is highly fragmented.  This is usually the result of calling `frame.insert` many times, which has poor performance.  Consider joining all columns at once using pd.concat(axis=1) instead. To get a de-fragmented frame, use `newframe = frame.copy()`\n",
      "  data_coups[key] = val\n",
      "/var/folders/cj/wcp8pyn12yl3wjnkt7bjxb840000gn/T/ipykernel_7407/2981889211.py:2: PerformanceWarning: DataFrame is highly fragmented.  This is usually the result of calling `frame.insert` many times, which has poor performance.  Consider joining all columns at once using pd.concat(axis=1) instead. To get a de-fragmented frame, use `newframe = frame.copy()`\n",
      "  data_coups[key] = val\n",
      "/var/folders/cj/wcp8pyn12yl3wjnkt7bjxb840000gn/T/ipykernel_7407/2981889211.py:2: PerformanceWarning: DataFrame is highly fragmented.  This is usually the result of calling `frame.insert` many times, which has poor performance.  Consider joining all columns at once using pd.concat(axis=1) instead. To get a de-fragmented frame, use `newframe = frame.copy()`\n",
      "  data_coups[key] = val\n",
      "/var/folders/cj/wcp8pyn12yl3wjnkt7bjxb840000gn/T/ipykernel_7407/2981889211.py:2: PerformanceWarning: DataFrame is highly fragmented.  This is usually the result of calling `frame.insert` many times, which has poor performance.  Consider joining all columns at once using pd.concat(axis=1) instead. To get a de-fragmented frame, use `newframe = frame.copy()`\n",
      "  data_coups[key] = val\n",
      "/var/folders/cj/wcp8pyn12yl3wjnkt7bjxb840000gn/T/ipykernel_7407/2981889211.py:2: PerformanceWarning: DataFrame is highly fragmented.  This is usually the result of calling `frame.insert` many times, which has poor performance.  Consider joining all columns at once using pd.concat(axis=1) instead. To get a de-fragmented frame, use `newframe = frame.copy()`\n",
      "  data_coups[key] = val\n",
      "/var/folders/cj/wcp8pyn12yl3wjnkt7bjxb840000gn/T/ipykernel_7407/2981889211.py:2: PerformanceWarning: DataFrame is highly fragmented.  This is usually the result of calling `frame.insert` many times, which has poor performance.  Consider joining all columns at once using pd.concat(axis=1) instead. To get a de-fragmented frame, use `newframe = frame.copy()`\n",
      "  data_coups[key] = val\n",
      "/var/folders/cj/wcp8pyn12yl3wjnkt7bjxb840000gn/T/ipykernel_7407/2981889211.py:2: PerformanceWarning: DataFrame is highly fragmented.  This is usually the result of calling `frame.insert` many times, which has poor performance.  Consider joining all columns at once using pd.concat(axis=1) instead. To get a de-fragmented frame, use `newframe = frame.copy()`\n",
      "  data_coups[key] = val\n",
      "/var/folders/cj/wcp8pyn12yl3wjnkt7bjxb840000gn/T/ipykernel_7407/2981889211.py:2: PerformanceWarning: DataFrame is highly fragmented.  This is usually the result of calling `frame.insert` many times, which has poor performance.  Consider joining all columns at once using pd.concat(axis=1) instead. To get a de-fragmented frame, use `newframe = frame.copy()`\n",
      "  data_coups[key] = val\n",
      "/var/folders/cj/wcp8pyn12yl3wjnkt7bjxb840000gn/T/ipykernel_7407/2981889211.py:2: PerformanceWarning: DataFrame is highly fragmented.  This is usually the result of calling `frame.insert` many times, which has poor performance.  Consider joining all columns at once using pd.concat(axis=1) instead. To get a de-fragmented frame, use `newframe = frame.copy()`\n",
      "  data_coups[key] = val\n"
     ]
    },
    {
     "name": "stderr",
     "output_type": "stream",
     "text": [
      "/var/folders/cj/wcp8pyn12yl3wjnkt7bjxb840000gn/T/ipykernel_7407/2981889211.py:2: PerformanceWarning: DataFrame is highly fragmented.  This is usually the result of calling `frame.insert` many times, which has poor performance.  Consider joining all columns at once using pd.concat(axis=1) instead. To get a de-fragmented frame, use `newframe = frame.copy()`\n",
      "  data_coups[key] = val\n",
      "/var/folders/cj/wcp8pyn12yl3wjnkt7bjxb840000gn/T/ipykernel_7407/2981889211.py:2: PerformanceWarning: DataFrame is highly fragmented.  This is usually the result of calling `frame.insert` many times, which has poor performance.  Consider joining all columns at once using pd.concat(axis=1) instead. To get a de-fragmented frame, use `newframe = frame.copy()`\n",
      "  data_coups[key] = val\n"
     ]
    }
   ],
   "source": [
    "for key, val in dico_means.items() :\n",
    "    data_coups[key] = val"
   ]
  },
  {
   "cell_type": "code",
   "execution_count": 42,
   "id": "dc5ad56e",
   "metadata": {},
   "outputs": [],
   "source": [
    "data_coups.to_csv(\"data/data_coups_v2.csv\")"
   ]
  },
  {
   "cell_type": "code",
   "execution_count": 48,
   "id": "be82d9e6",
   "metadata": {},
   "outputs": [],
   "source": [
    "test = data_coups[data_coups[\"End\"]==2022]"
   ]
  }
 ],
 "metadata": {
  "hide_input": false,
  "kernelspec": {
   "display_name": "Python 3 (ipykernel)",
   "language": "python",
   "name": "python3"
  },
  "language_info": {
   "codemirror_mode": {
    "name": "ipython",
    "version": 3
   },
   "file_extension": ".py",
   "mimetype": "text/x-python",
   "name": "python",
   "nbconvert_exporter": "python",
   "pygments_lexer": "ipython3",
   "version": "3.9.10"
  },
  "toc": {
   "base_numbering": 1,
   "nav_menu": {},
   "number_sections": true,
   "sideBar": true,
   "skip_h1_title": false,
   "title_cell": "Table of Contents",
   "title_sidebar": "Contents",
   "toc_cell": false,
   "toc_position": {},
   "toc_section_display": true,
   "toc_window_display": false
  }
 },
 "nbformat": 4,
 "nbformat_minor": 5
}
